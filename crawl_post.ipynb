{
 "cells": [
  {
   "cell_type": "markdown",
   "id": "bcb16561",
   "metadata": {},
   "source": [
    "Import Libraries"
   ]
  },
  {
   "cell_type": "code",
   "execution_count": 15,
   "id": "02842b7d",
   "metadata": {},
   "outputs": [],
   "source": [
    "from urllib.parse import urljoin\n",
    "from bs4 import BeautifulSoup\n",
    "import requests\n",
    "from requests.auth import HTTPBasicAuth "
   ]
  },
  {
   "cell_type": "markdown",
   "id": "5988dc87",
   "metadata": {},
   "source": [
    "Global Variables"
   ]
  },
  {
   "cell_type": "code",
   "execution_count": null,
   "id": "82ad770b",
   "metadata": {},
   "outputs": [],
   "source": [
    "category_url = \"https://phoiviet.com/news/83/hen-suyen.html\"\n",
    "base_url = \"https://phoiviet.com\"\n",
    "\n",
    "wp_url_posts = \"https://phatdat.h2tdev.io.vn/wp-json/wp/v2/posts\"\n",
    "wp_url_media = \"https://phatdat.h2tdev.io.vn/wp-json/wp/v2/media\"\n",
    "username = \"admin\"\n",
    "password = \"\"\n",
    "auth = HTTPBasicAuth(username, password)\n",
    "\n",
    "links = []\n",
    "all_posts = []\n",
    "media_ids = []"
   ]
  },
  {
   "cell_type": "markdown",
   "id": "7af875d2",
   "metadata": {},
   "source": [
    "Get Total Pages"
   ]
  },
  {
   "cell_type": "code",
   "execution_count": 17,
   "id": "f8640af2-9424-41c9-9bd9-28edc8d941ca",
   "metadata": {},
   "outputs": [
    {
     "name": "stdout",
     "output_type": "stream",
     "text": [
      "Number of pages found: 2\n"
     ]
    }
   ],
   "source": [
    "response = requests.get(category_url)\n",
    "soup = BeautifulSoup(response.content, 'html.parser')\n",
    "\n",
    "pages = soup.select('.pagination a[title]')\n",
    "page_numbers = [int(a['title']) for a in pages if a['title'].isdigit()]\n",
    "max_page = max(page_numbers) if page_numbers else 1\n",
    "\n",
    "print(f\"Number of pages found: {max_page}\")"
   ]
  },
  {
   "cell_type": "markdown",
   "id": "cbaa971f",
   "metadata": {},
   "source": [
    "Get All Post Links"
   ]
  },
  {
   "cell_type": "code",
   "execution_count": 18,
   "id": "aab196f7",
   "metadata": {},
   "outputs": [
    {
     "name": "stdout",
     "output_type": "stream",
     "text": [
      "Total posts found: 18\n"
     ]
    }
   ],
   "source": [
    "for page in range(1, max_page + 1):\n",
    "    res = requests.get(f\"{category_url}?page={page}\")\n",
    "    if res.status_code != 200:\n",
    "        continue\n",
    "\n",
    "    soup = BeautifulSoup(res.content, 'html.parser')\n",
    "    for a in soup.select('.blog-head h3 a'):\n",
    "        href = a.get('href')\n",
    "        if href and href.startswith('/new/'):\n",
    "            full_link = base_url + href\n",
    "            if full_link not in links:\n",
    "                links.append(full_link)\n",
    "\n",
    "print(f\"Total posts found: {len(links)}\")"
   ]
  },
  {
   "cell_type": "markdown",
   "id": "038db4ce",
   "metadata": {},
   "source": [
    "Crawl Post"
   ]
  },
  {
   "cell_type": "code",
   "execution_count": 19,
   "id": "a047d9e7",
   "metadata": {},
   "outputs": [
    {
     "name": "stdout",
     "output_type": "stream",
     "text": [
      "\n",
      "Fetching post 1: https://phoiviet.com/new/143/hen-suyen.html\n",
      "Finished fetching post 1: Hen suyễn\n",
      "Featured image: https://phoiviet.com/tmp/cache/images/_thumbs/870x405//uploa...\n",
      "\n",
      "Fetching post 2: https://phoiviet.com/new/655/lua-chon-dung-thuoc-de-dieu-tri-hen-suyen-ca-the.html\n",
      "Finished fetching post 2: Lựa chọn đúng thuốc để điều trị hen suyễn cá thể\n",
      "Featured image: https://phoiviet.com/tmp/cache/images/_thumbs/870x405//uploa...\n",
      "\n",
      "Fetching post 3: https://phoiviet.com/new/565/hen-tre-em.html\n",
      "Finished fetching post 3: Hen suyễn trẻ em\n",
      "Featured image: https://phoiviet.com/tmp/cache/images/_thumbs/870x405//uploa...\n",
      "\n",
      "Fetching post 4: https://phoiviet.com/new/643/lam-sao-de-nhan-biet-hen-suyen-tre-em.html\n",
      "Finished fetching post 4: Làm sao để nhận biết hen suyễn trẻ em?\n",
      "Featured image: https://phoiviet.com/tmp/cache/images/_thumbs/870x405//uploa...\n",
      "\n",
      "Fetching post 5: https://phoiviet.com/new/505/viem-mui-di-ung.html\n",
      "Finished fetching post 5: Viêm mũi dị ứng\n",
      "Featured image: https://phoiviet.com/tmp/cache/images/_thumbs/870x405//uploa...\n",
      "\n",
      "Fetching post 6: https://phoiviet.com/new/633/do-feno-de-lam-gi.html\n",
      "Finished fetching post 6: Đo FeNO để làm gì?\n",
      "Featured image: https://phoiviet.com/tmp/cache/images/_thumbs/870x405//uploa...\n",
      "\n",
      "Fetching post 7: https://phoiviet.com/new/631/dieu-tri-bang-thuoc-sinh-hoc-giai-phap-moi-trong-dieu-tri-hen-nang.html\n",
      "Finished fetching post 7: Điều trị bằng thuốc sinh học- Giải pháp mới trong điều trị hen nặng\n",
      "Featured image: https://phoiviet.com/tmp/cache/images/_thumbs/870x405//uploa...\n",
      "\n",
      "Fetching post 8: https://phoiviet.com/new/569/lam-the-nao-de-chan-doan-hen-chinh-xac.html\n",
      "Finished fetching post 8: Làm thế nào để chẩn đoán hen chính xác?\n",
      "Featured image: https://phoiviet.com/tmp/cache/images/_thumbs/870x405//uploa...\n",
      "\n",
      "Fetching post 9: https://phoiviet.com/new/415/ca-the-hoa-dieu-tri-hen-suyen.html\n",
      "Finished fetching post 9: Cá thể hóa điều trị hen suyễn\n",
      "Featured image: https://phoiviet.com/tmp/cache/images/_thumbs/870x405//uploa...\n",
      "\n",
      "Fetching post 10: https://phoiviet.com/new/193/hen-suyen-va-thai-ky.html\n",
      "Finished fetching post 10: Hen suyễn và thai kỳ\n",
      "Featured image: https://phoiviet.com/tmp/cache/images/_thumbs/870x405//uploa...\n",
      "\n",
      "Fetching post 11: https://phoiviet.com/new/409/theo-doi-luu-luong-dinh-va-dem-eosinophil.html\n",
      "Finished fetching post 11: Theo dõi lưu lượng đỉnh và đếm Eosinophil\n",
      "Featured image: https://phoiviet.com/tmp/cache/images/_thumbs/870x405//uploa...\n",
      "\n",
      "Fetching post 12: https://phoiviet.com/new/201/giup-benh-nhan-tuan-thu-dieu-tri-hen-tot-hon.html\n",
      "Finished fetching post 12: Giúp bệnh nhân tuân thủ điều trị hen tốt hơn\n",
      "Featured image: https://phoiviet.com/tmp/cache/images/_thumbs/870x405//uploa...\n",
      "\n",
      "Fetching post 13: https://phoiviet.com/new/203/lam-sao-xu-ly-con-hen-cap-tai-nha.html\n",
      "Finished fetching post 13: Làm sao xử lý cơn hen cấp tại nhà?\n",
      "Featured image: https://phoiviet.com/tmp/cache/images/_thumbs/870x405//uploa...\n",
      "\n",
      "Fetching post 14: https://phoiviet.com/new/195/lao-so-nhiem-o-tre-em-co-the-bi-chan-doan-nham-la-hen.html\n",
      "Finished fetching post 14: Lao sơ nhiễm ở trẻ em có thể bị chẩn đoán nhầm là hen\n",
      "Featured image: https://phoiviet.com/tmp/cache/images/_thumbs/870x405//uploa...\n",
      "\n",
      "Fetching post 15: https://phoiviet.com/new/197/benh-hen-con-bo-sot-o-cong-dong.html\n",
      "Finished fetching post 15: Bệnh hen còn bỏ sót ở cộng đồng\n",
      "Featured image: https://phoiviet.com/tmp/cache/images/_thumbs/870x405//uploa...\n",
      "\n",
      "Fetching post 16: https://phoiviet.com/new/205/benh-nhan-hen-suyen-va-cac-cau-hoi-thuong-gap.html\n",
      "Finished fetching post 16: Bệnh nhân hen suyễn và các câu hỏi thường gặp\n",
      "Featured image: https://phoiviet.com/tmp/cache/images/_thumbs/870x405//benh-...\n",
      "\n",
      "Fetching post 17: https://phoiviet.com/new/411/dung-cu-xit-hut-trong-hen-va-copd.html\n",
      "Finished fetching post 17: Dụng cụ xịt hút trong hen và copd\n",
      "Featured image: https://phoiviet.com/tmp/cache/images/_thumbs/870x405//uploa...\n",
      "\n",
      "Fetching post 18: https://phoiviet.com/new/499/lua-chon-may-phun-khi-dung-phu-hop.html\n"
     ]
    },
    {
     "name": "stderr",
     "output_type": "stream",
     "text": [
      "Some characters could not be decoded, and were replaced with REPLACEMENT CHARACTER.\n"
     ]
    },
    {
     "name": "stdout",
     "output_type": "stream",
     "text": [
      "Finished fetching post 18: Lựa chọn máy phun khí dung phù hợp\n",
      "Featured image: https://phoiviet.com/tmp/cache/images/_thumbs/870x405//uploa...\n"
     ]
    }
   ],
   "source": [
    "for idx, source_url in enumerate(links, start=1):\n",
    "    print(f\"\\nFetching post {idx}: {source_url}\")\n",
    "    response = requests.get(source_url)\n",
    "    soup = BeautifulSoup(response.content, 'html.parser')\n",
    "\n",
    "    title_element = soup.select_one('title')\n",
    "    title = title_element.get_text(strip=True) if title_element else f\"No title {idx}\"\n",
    "\n",
    "    content_element = soup.select_one('body > div.main-wrapper > div:nth-child(13) > div > div')\n",
    "    content = \"\"\n",
    "    if content_element:\n",
    "        for img in content_element.find_all('img'):\n",
    "            src = img.get('src')\n",
    "            if src and src.startswith('/'):\n",
    "                img['src'] = urljoin(base_url, src)\n",
    "        content = content_element.decode_contents()\n",
    "\n",
    "    feature_image_url = \"\"\n",
    "    feature_img_tag = soup.select_one('img.max-image')\n",
    "    if feature_img_tag:\n",
    "        img_src = feature_img_tag.get('src')\n",
    "        if img_src:\n",
    "            feature_image_url = urljoin(base_url, img_src)\n",
    "\n",
    "    all_posts.append({\n",
    "        \"title\": title,\n",
    "        \"content\": content,\n",
    "        \"feature_image_url\": feature_image_url\n",
    "    })\n",
    "\n",
    "    print(f\"Finished fetching post {idx}: {title}\")\n",
    "    print(f\"Featured image: {feature_image_url[:60]}...\")"
   ]
  },
  {
   "cell_type": "markdown",
   "id": "93620537",
   "metadata": {},
   "source": [
    "Upload feature image"
   ]
  },
  {
   "cell_type": "code",
   "execution_count": 20,
   "id": "71c10723-3636-423b-97f1-016efeaf0d51",
   "metadata": {},
   "outputs": [
    {
     "name": "stdout",
     "output_type": "stream",
     "text": [
      "Post 1: Featured image uploaded successfully! Media ID 207\n",
      "Post 2: Featured image uploaded successfully! Media ID 208\n",
      "Post 3: Featured image uploaded successfully! Media ID 209\n",
      "Post 4: Featured image uploaded successfully! Media ID 210\n",
      "Post 5: Featured image uploaded successfully! Media ID 211\n",
      "Post 6: Featured image uploaded successfully! Media ID 212\n",
      "Post 7: Featured image uploaded successfully! Media ID 213\n",
      "Post 8: Featured image uploaded successfully! Media ID 214\n",
      "Post 9: Featured image uploaded successfully! Media ID 215\n",
      "Post 10: Featured image uploaded successfully! Media ID 216\n",
      "Post 11: Featured image uploaded successfully! Media ID 217\n",
      "Post 12: Featured image uploaded successfully! Media ID 218\n",
      "Post 13: Featured image uploaded successfully! Media ID 219\n",
      "Post 14: Featured image uploaded successfully! Media ID 220\n",
      "Post 15: Featured image uploaded successfully! Media ID 221\n",
      "Post 16: Featured image uploaded successfully! Media ID 222\n",
      "Post 17: Featured image uploaded successfully! Media ID 223\n",
      "Post 18: Featured image uploaded successfully! Media ID 224\n"
     ]
    }
   ],
   "source": [
    "for idx, post in enumerate(all_posts, start=1):\n",
    "    feature_image_url = post.get(\"feature_image_url\")\n",
    "    media_id = None\n",
    "\n",
    "    if feature_image_url:\n",
    "        try:\n",
    "            image_data = requests.get(feature_image_url).content\n",
    "            image_name = feature_image_url.split(\"/\")[-1]\n",
    "            headers_media = {\n",
    "                \"Content-Disposition\": f\"attachment; filename={image_name}\",\n",
    "                \"Content-Type\": \"image/jpeg\"\n",
    "            }\n",
    "            media_response = requests.post(wp_url_media, auth=auth, headers=headers_media, data=image_data)\n",
    "            if media_response.status_code == 201:\n",
    "                media_id = media_response.json().get(\"id\")\n",
    "                print(f\"Post {idx}: Featured image uploaded successfully! Media ID {media_id}\")\n",
    "            else:\n",
    "                print(f\"Post {idx}: Failed to upload featured image\", media_response.text)\n",
    "        except Exception as e:\n",
    "            print(f\"Post {idx}: Error uploading featured image:\", e)\n",
    "\n",
    "    media_ids.append(media_id)"
   ]
  },
  {
   "cell_type": "markdown",
   "id": "a03af402",
   "metadata": {},
   "source": [
    "Add Post"
   ]
  },
  {
   "cell_type": "code",
   "execution_count": 21,
   "id": "8ae8bd19",
   "metadata": {},
   "outputs": [
    {
     "name": "stdout",
     "output_type": "stream",
     "text": [
      "Post 1 created successfully!\n",
      "Post ID: 225\n",
      "Link: https://phatdat.h2tdev.io.vn/hen-suyen/\n",
      "Post 2 created successfully!\n",
      "Post ID: 226\n",
      "Link: https://phatdat.h2tdev.io.vn/lua-chon-dung-thuoc-de-dieu-tri-hen-suyen-ca-the/\n",
      "Post 3 created successfully!\n",
      "Post ID: 227\n",
      "Link: https://phatdat.h2tdev.io.vn/hen-suyen-tre-em/\n",
      "Post 4 created successfully!\n",
      "Post ID: 228\n",
      "Link: https://phatdat.h2tdev.io.vn/lam-sao-de-nhan-biet-hen-suyen-tre-em/\n",
      "Post 5 created successfully!\n",
      "Post ID: 229\n",
      "Link: https://phatdat.h2tdev.io.vn/viem-mui-di-ung/\n",
      "Post 6 created successfully!\n",
      "Post ID: 230\n",
      "Link: https://phatdat.h2tdev.io.vn/do-feno-de-lam-gi/\n",
      "Post 7 created successfully!\n",
      "Post ID: 231\n",
      "Link: https://phatdat.h2tdev.io.vn/dieu-tri-bang-thuoc-sinh-hoc-giai-phap-moi-trong-dieu-tri-hen-nang/\n",
      "Post 8 created successfully!\n",
      "Post ID: 232\n",
      "Link: https://phatdat.h2tdev.io.vn/lam-the-nao-de-chan-doan-hen-chinh-xac/\n",
      "Post 9 created successfully!\n",
      "Post ID: 233\n",
      "Link: https://phatdat.h2tdev.io.vn/ca-the-hoa-dieu-tri-hen-suyen/\n",
      "Post 10 created successfully!\n",
      "Post ID: 234\n",
      "Link: https://phatdat.h2tdev.io.vn/hen-suyen-va-thai-ky/\n",
      "Post 11 created successfully!\n",
      "Post ID: 235\n",
      "Link: https://phatdat.h2tdev.io.vn/theo-doi-luu-luong-dinh-va-dem-eosinophil/\n",
      "Post 12 created successfully!\n",
      "Post ID: 236\n",
      "Link: https://phatdat.h2tdev.io.vn/giup-benh-nhan-tuan-thu-dieu-tri-hen-tot-hon/\n",
      "Post 13 created successfully!\n",
      "Post ID: 237\n",
      "Link: https://phatdat.h2tdev.io.vn/lam-sao-xu-ly-con-hen-cap-tai-nha/\n",
      "Post 14 created successfully!\n",
      "Post ID: 238\n",
      "Link: https://phatdat.h2tdev.io.vn/lao-so-nhiem-o-tre-em-co-the-bi-chan-doan-nham-la-hen/\n",
      "Post 15 created successfully!\n",
      "Post ID: 239\n",
      "Link: https://phatdat.h2tdev.io.vn/benh-hen-con-bo-sot-o-cong-dong/\n",
      "Post 16 created successfully!\n",
      "Post ID: 240\n",
      "Link: https://phatdat.h2tdev.io.vn/benh-nhan-hen-suyen-va-cac-cau-hoi-thuong-gap/\n",
      "Post 17 created successfully!\n",
      "Post ID: 241\n",
      "Link: https://phatdat.h2tdev.io.vn/dung-cu-xit-hut-trong-hen-va-copd/\n",
      "Post 18 created successfully!\n",
      "Post ID: 242\n",
      "Link: https://phatdat.h2tdev.io.vn/lua-chon-may-phun-khi-dung-phu-hop/\n"
     ]
    }
   ],
   "source": [
    "for idx, post in enumerate(all_posts, start=1):\n",
    "    title = post.get(\"title\")\n",
    "    content = post.get(\"content\")\n",
    "    media_id = media_ids[idx-1]\n",
    "\n",
    "    if not title or not content:\n",
    "        print(f\"Skipping post {idx}: missing title or content\")\n",
    "        continue\n",
    "\n",
    "    post_data = {\n",
    "        \"title\": title,\n",
    "        \"content\": content,\n",
    "        \"status\": \"publish\"\n",
    "    }\n",
    "    if media_id:\n",
    "        post_data[\"featured_media\"] = media_id\n",
    "\n",
    "    try:\n",
    "        post_response = requests.post(wp_url_posts, auth=auth, json=post_data)\n",
    "        if post_response.status_code == 201:\n",
    "            print(f\"Post {idx} created successfully!\")\n",
    "            print(\"Post ID:\", post_response.json().get(\"id\"))\n",
    "            print(\"Link:\", post_response.json().get(\"link\"))\n",
    "        else:\n",
    "            print(f\"Post {idx}: Failed to create post\")\n",
    "            print(\"Status Code:\", post_response.status_code)\n",
    "            print(\"Response:\", post_response.text[:200])\n",
    "    except Exception as e:\n",
    "        print(f\"Post {idx}: Error creating post:\", e)"
   ]
  }
 ],
 "metadata": {
  "kernelspec": {
   "display_name": ".venv (3.13.5)",
   "language": "python",
   "name": "python3"
  },
  "language_info": {
   "codemirror_mode": {
    "name": "ipython",
    "version": 3
   },
   "file_extension": ".py",
   "mimetype": "text/x-python",
   "name": "python",
   "nbconvert_exporter": "python",
   "pygments_lexer": "ipython3",
   "version": "3.13.5"
  }
 },
 "nbformat": 4,
 "nbformat_minor": 5
}
